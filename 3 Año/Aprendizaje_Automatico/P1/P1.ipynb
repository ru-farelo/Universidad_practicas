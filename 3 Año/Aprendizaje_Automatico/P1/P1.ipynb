{
 "cells": [
  {
   "cell_type": "markdown",
   "metadata": {},
   "source": [
    "# Aprendizaje Automatico Intro Julia"
   ]
  },
  {
   "cell_type": "markdown",
   "metadata": {},
   "source": [
    "##### ¿Sería necesario realizar este preprocesado cuando las entradas son los valores de intensidad de cada pixel en una imagen en blanco y negro? ¿Por qué?\n",
    "\n",
    "###### Para el caso de las imágenes en blanco y negro, el preprocesado de normalización no sería necesario. Esto se debe a que las imágenes en blanco y negro tienen un rango de valores que varía de 0 (negro) a 255 (blanco). Este rango ya está normalizado, ya que representa la intensidad de la luz en la imagen"
   ]
  },
  {
   "cell_type": "markdown",
   "metadata": {},
   "source": [
    "#####  En este tipo de normalización, si min=max, se puede realizar otro preprocesadodistinto en este atributo, ¿en qué consistiría?\n",
    "\n",
    "###### Si el valor mínimo y el máximo de un atributo son iguales, significa que todos los valores de ese atributo son iguales. En este caso, ese atributo no aporta información útil al modelo porque no hay variabilidad en sus valores. Por lo tanto, un posible preprocesado para este atributo sería eliminarlo del conjunto de datos, ya que no contribuye a la predicción"
   ]
  },
  {
   "cell_type": "markdown",
   "metadata": {},
   "source": [
    "##### Sabiendo que los modelos de Aprendizaje Automático en general suponen que los patronesse distribuyen en filas, pero en el mundo de las RR.NN.AA. se distribuyen en columnas, ¿en qué casos habría que normalizar cada fila por separado y en qué casos habría que normalizar cada columna por separado?\n",
    "\n",
    "###### Depende un poco del problema a tratar -> Ejemplo Lista de alumnos en filas y cada columna es una materia \n",
    "###### Si estás viendo el desempeño de cada estudiante en diferentes materias, normalizar por fila te ayuda a comparar cómo les va en cada materia sin que las calificaciones altas o bajas de otros estudiantes afecten demasiado.\n",
    "###### Si estás observando diferentes materias y quieres asegurarte de que las calificaciones en cada materia estén en la misma escala, normalizar por columna es útil para que ninguna materia tenga un impacto desproporcionado en los modelos o análisis.  "
   ]
  },
  {
   "cell_type": "markdown",
   "metadata": {},
   "source": [
    "#####  ¿Por qué no se realiza en problemas de clasificación?\n",
    "\n",
    "###### La normalización de los datos de salida no se realiza en problemas de clasificación porque en la clasificación, el objetivo es predecir una etiqueta de clase, no una cantidad continua. En otras palabras, en un problema de clasificación, las salidas son categorías discretas, no números continuos. Por lo tanto, no hay una \"mejor\" salida que la otra; simplemente hay diferentes categorías."
   ]
  },
  {
   "cell_type": "markdown",
   "metadata": {},
   "source": [
    "##### Primera semana"
   ]
  },
  {
   "cell_type": "code",
   "execution_count": 1,
   "metadata": {},
   "outputs": [
    {
     "data": {
      "text/plain": [
       "150×5 Matrix{Any}:\n",
       " 5.1  3.5  1.4  0.2  \"Iris-setosa\"\n",
       " 4.9  3.0  1.4  0.2  \"Iris-setosa\"\n",
       " 4.7  3.2  1.3  0.2  \"Iris-setosa\"\n",
       " 4.6  3.1  1.5  0.2  \"Iris-setosa\"\n",
       " 5.0  3.6  1.4  0.2  \"Iris-setosa\"\n",
       " 5.4  3.9  1.7  0.4  \"Iris-setosa\"\n",
       " 4.6  3.4  1.4  0.3  \"Iris-setosa\"\n",
       " 5.0  3.4  1.5  0.2  \"Iris-setosa\"\n",
       " 4.4  2.9  1.4  0.2  \"Iris-setosa\"\n",
       " 4.9  3.1  1.5  0.1  \"Iris-setosa\"\n",
       " ⋮                   \n",
       " 6.9  3.1  5.1  2.3  \"Iris-virginica\"\n",
       " 5.8  2.7  5.1  1.9  \"Iris-virginica\"\n",
       " 6.8  3.2  5.9  2.3  \"Iris-virginica\"\n",
       " 6.7  3.3  5.7  2.5  \"Iris-virginica\"\n",
       " 6.7  3.0  5.2  2.3  \"Iris-virginica\"\n",
       " 6.3  2.5  5.0  1.9  \"Iris-virginica\"\n",
       " 6.5  3.0  5.2  2.0  \"Iris-virginica\"\n",
       " 6.2  3.4  5.4  2.3  \"Iris-virginica\"\n",
       " 5.9  3.0  5.1  1.8  \"Iris-virginica\""
      ]
     },
     "metadata": {},
     "output_type": "display_data"
    }
   ],
   "source": [
    "using DelimitedFiles \n",
    "dataset = readdlm(\"../iris/iris.data\",','); ## Cargar el dataset\n",
    "##### Crear una matriz con las entradas y otra con las salidas deseadas, cada una con el tipo más adecuado.\n",
    "##### ¿Qué dimensiones tienen las matrices? ->  (150, 4) y (150, 1) respectivamente."
   ]
  },
  {
   "cell_type": "markdown",
   "metadata": {},
   "source": [
    "#### 1 ) ¿Cuál será el resultado de las siguientes llamadas?"
   ]
  },
  {
   "cell_type": "code",
   "execution_count": null,
   "metadata": {},
   "outputs": [],
   "source": [
    "\n",
    "inputs = dataset[:,1:4]; ## Salida esperada: 150×4 Array{Float64,2}\n",
    "targets = dataset[:,5];  ## Salida esperada: 150-element Array{Any,1}"
   ]
  },
  {
   "cell_type": "markdown",
   "metadata": {},
   "source": [
    " ##### Para ver de qué tipo es una variable, se puede usar la función typeof"
   ]
  },
  {
   "cell_type": "code",
   "execution_count": null,
   "metadata": {},
   "outputs": [],
   "source": [
    "typeof(Array{Float64,2}) ## Salida esperada: DataType\n",
    "typeof(DataType) ## Salida esperada: DataType\n",
    "typeof(Any)  ## Salida esperada: DataType"
   ]
  },
  {
   "cell_type": "markdown",
   "metadata": {},
   "source": [
    "##### Comprobar si una variables de un tipo determinado, se puede usar la función isa."
   ]
  },
  {
   "cell_type": "code",
   "execution_count": null,
   "metadata": {},
   "outputs": [],
   "source": [
    "\n",
    "isa(DataType, Any)  ## Salida esperada: True\n",
    "isa(Any, Any) ## Salida esperada: True\n",
    "isa(Array{Float32,2}, Any) ## Salida esperada: True\n",
    "isa(typeof(Array{Float64,2}), Any)  ## Salida esperada: True"
   ]
  },
  {
   "cell_type": "markdown",
   "metadata": {},
   "source": [
    "##### Usar la función convert, que intenta hacer una conversión a un tipo especificado, es necesario convertir los datos que usaremos, de Array{Any,2} a Array{Float32,2}"
   ]
  },
  {
   "cell_type": "code",
   "execution_count": null,
   "metadata": {},
   "outputs": [],
   "source": [
    "#inputs = convert(Array{Float32,2},inputs); \n",
    "#targets = convert(Array{Float32,1},targets); "
   ]
  },
  {
   "cell_type": "markdown",
   "metadata": {},
   "source": [
    "#####  Si es un problema de clasificación en dos clases y elarchivo tiene valores numéricos de 0 y 1 para cada clase, esto se podría convertir en valores booleanos con algo como:"
   ]
  },
  {
   "cell_type": "code",
   "execution_count": null,
   "metadata": {},
   "outputs": [],
   "source": [
    "#targets = convert(Array{Bool,1}, targets);"
   ]
  },
  {
   "cell_type": "markdown",
   "metadata": {},
   "source": [
    "##### La función que calcula el cuadrado de un número de la siguiente manera:"
   ]
  },
  {
   "cell_type": "code",
   "execution_count": null,
   "metadata": {},
   "outputs": [],
   "source": [
    "cuadrado(x::Real) = x*x \n",
    "cuadrado.([1 2 3]) \n",
    "[cuadrado(x) for x in [1 2 3]] \n"
   ]
  },
  {
   "cell_type": "markdown",
   "metadata": {},
   "source": [
    "##### Operación Suma"
   ]
  },
  {
   "cell_type": "code",
   "execution_count": null,
   "metadata": {},
   "outputs": [],
   "source": [
    "suma(a::Real, b::Real) = a+b \n",
    "suma.([1 2 3],[2 3 4])"
   ]
  },
  {
   "cell_type": "markdown",
   "metadata": {},
   "source": [
    "###### ¿Cuál será el resultado de hacer suma.(1,[2 3 4]) y suma.([1 2 3],3)?"
   ]
  },
  {
   "cell_type": "code",
   "execution_count": null,
   "metadata": {},
   "outputs": [],
   "source": [
    "suma.(1,[2 3 4])"
   ]
  },
  {
   "cell_type": "code",
   "execution_count": null,
   "metadata": {},
   "outputs": [],
   "source": [
    "suma.([1 2 3],3)"
   ]
  },
  {
   "cell_type": "markdown",
   "metadata": {},
   "source": [
    "##### Es equivalente escribir estas líneas:"
   ]
  },
  {
   "cell_type": "code",
   "execution_count": null,
   "metadata": {},
   "outputs": [],
   "source": [
    "inputs = Float32.(inputs); \n",
    "inputs = [Float32(x) for x in inputs]; \n",
    "inputs = convert(Array{Float32,2},inputs); "
   ]
  },
  {
   "cell_type": "markdown",
   "metadata": {},
   "source": [
    "####  ¿Cuál será el resultado de las siguientes llamadas?"
   ]
  },
  {
   "cell_type": "code",
   "execution_count": null,
   "metadata": {},
   "outputs": [],
   "source": [
    "typeof(inputs) \n",
    "\n",
    "isa(inputs, Any) \n",
    "isa(inputs, Array) \n",
    "isa(inputs, Array{Float32,2}) \n",
    "isa(inputs, Array{Real,2}) \n",
    "isa(inputs, Array{Number,2}) \n",
    "isa(inputs, Array{Any,2}) \n",
    "isa(inputs, Array{<:Real,2}) \n",
    "isa(inputs, Array{<:Number,2})\n",
    "isa(inputs, Array{<:Any,2})"
   ]
  },
  {
   "cell_type": "markdown",
   "metadata": {},
   "source": [
    "#####  ¿Cuál será el resultado de las siguientes llamadas?"
   ]
  },
  {
   "cell_type": "code",
   "execution_count": null,
   "metadata": {},
   "outputs": [],
   "source": [
    "Array{Float32,2} <: Any\n",
    "Array{Float32,2} <: Array\n",
    "Array{Float32,2} <: Array{Any,2}\n",
    "Array{Float32,2} <: Array{<:Real,2}\n",
    "Array{Float32,2} <: Array{<:Any,2}"
   ]
  },
  {
   "cell_type": "markdown",
   "metadata": {},
   "source": [
    "#### Si el problema es de clasificación con 2 clases, y nos dan estas salidas deseadas como valores numéricos 0 o 1, serían equivalentes las siguientes líneas:"
   ]
  },
  {
   "cell_type": "code",
   "execution_count": null,
   "metadata": {},
   "outputs": [],
   "source": [
    "#targets = Bool.(targets); \n",
    "#targets = [Bool(x) for x in targets]; \n",
    "#targets = convert(Array{Bool,1},targets);"
   ]
  },
  {
   "cell_type": "markdown",
   "metadata": {},
   "source": [
    "##### De cara a la definición de funciones, es importante tener en cuenta que ambos son subtipos de AbstractArray{Bool,N}"
   ]
  },
  {
   "cell_type": "code",
   "execution_count": null,
   "metadata": {},
   "outputs": [],
   "source": [
    "BitArray{2} <: AbstractArray{Bool,2} \n",
    "Array{Bool,2} <: AbstractArray{Bool,2}"
   ]
  },
  {
   "cell_type": "markdown",
   "metadata": {},
   "source": [
    "##### ¿Qué tipo tendrán los objetos [[]], [[8]] y [[8.]]?"
   ]
  },
  {
   "cell_type": "code",
   "execution_count": null,
   "metadata": {},
   "outputs": [],
   "source": [
    "[[]] ## Salida  []\n",
    "[[8]] ## Salida [8]\n",
    "[[8.]] ## Salida [8.0]"
   ]
  },
  {
   "cell_type": "markdown",
   "metadata": {},
   "source": [
    "##### Para saber el número de filas y/o columnas de una matriz se puede usar la función size"
   ]
  },
  {
   "cell_type": "code",
   "execution_count": null,
   "metadata": {},
   "outputs": [],
   "source": [
    "size(inputs) ## Salida esperada (150, 4)\n",
    "size(inputs,1) ## Salida esperada 150"
   ]
  },
  {
   "cell_type": "markdown",
   "metadata": {},
   "source": [
    "##### suele ser interesante introducir comprobaciones para verificar que todo está correcto"
   ]
  },
  {
   "cell_type": "code",
   "execution_count": null,
   "metadata": {},
   "outputs": [],
   "source": [
    "@assert (size(inputs,1)==size(targets,1)) \"Las matrices de entradas y \n",
    "salidas deseadas no tienen el mismo número de filas\""
   ]
  },
  {
   "cell_type": "markdown",
   "metadata": {},
   "source": [
    "##### Para crear un vector se pueden escribir sus elementos entre corchetes"
   ]
  },
  {
   "cell_type": "code",
   "execution_count": null,
   "metadata": {},
   "outputs": [],
   "source": [
    "M = [1, 2, 3]"
   ]
  },
  {
   "cell_type": "markdown",
   "metadata": {},
   "source": [
    "##### Para crear una matriz basta con escribir sus elementos entre corchetes"
   ]
  },
  {
   "cell_type": "code",
   "execution_count": null,
   "metadata": {},
   "outputs": [],
   "source": [
    "M = [1 2 3; 4 5 6] "
   ]
  },
  {
   "cell_type": "markdown",
   "metadata": {},
   "source": [
    "##### Para acceder a un elemento de la matriz se indica el nombre de la matriz seguido de la fila y la columna a la que se desea acceder entre corchetes"
   ]
  },
  {
   "cell_type": "code",
   "execution_count": null,
   "metadata": {},
   "outputs": [],
   "source": [
    "M[2,3]"
   ]
  },
  {
   "cell_type": "markdown",
   "metadata": {},
   "source": [
    "##### ¿Cuál será el resultado de las siguientes llamadas? Al representar un vector como si fuera una matriz, ¿esta será una matriz fila o una matriz columna? ¿La tercera llamada devuelve un vector o una matriz bidimensional?"
   ]
  },
  {
   "cell_type": "code",
   "execution_count": null,
   "metadata": {},
   "outputs": [],
   "source": [
    "typeof([1,2,3]) ## Salida esperada: Vector{Int64}\n",
    "typeof([1;2;3]) ## Salida esperada: Vector{Int64}\n",
    "typeof([1 2 3]) ## Salida esperada: Matrix{Int64}\n",
    "typeof([1 2 3; 4 5 6]) ## Salida esperada: Matrix{Int64}"
   ]
  },
  {
   "cell_type": "markdown",
   "metadata": {},
   "source": [
    "##### ejemplos, que permiten tomar de la matriz M todas las filas y la primera columna, la primera fila y las columnas a partir de la segunda y la segunda fila y todas las columnas respectivamente"
   ]
  },
  {
   "cell_type": "code",
   "execution_count": null,
   "metadata": {},
   "outputs": [],
   "source": [
    "M[:, 1] ## Salida esperada: [1, 4]\n",
    "M[1, 2:end] ## Salida esperada: [2, 3]\n",
    "M[2, :] ## Salida esperada: [4, 5, 6]"
   ]
  },
  {
   "cell_type": "markdown",
   "metadata": {},
   "source": [
    "##### ¿Qué dimensiones y tamaños tendrán las matrices resultado de estas tres operaciones? ¿Qué dimensión se “pierde” en cada una?"
   ]
  },
  {
   "cell_type": "code",
   "execution_count": null,
   "metadata": {},
   "outputs": [],
   "source": [
    "M[1, end:-1:1] \n",
    "M[1, [3, 2, 1]]\n",
    "## Que dimensiones tienen ? -> (3,) y (3,1) respectivamente\n",
    "## Tamaños tienen las mastrices resultado ? -> 3 y 3 respectivamente\n",
    "## Que dimension se pierde en cada una ? -> La segunda y la primera respectivamente"
   ]
  },
  {
   "cell_type": "markdown",
   "metadata": {},
   "source": [
    "##### Si M es una matriz de 4 dimensiones, cuántas dimensiones tendrán los resultados de las siguientes operaciones?"
   ]
  },
  {
   "cell_type": "code",
   "execution_count": null,
   "metadata": {},
   "outputs": [],
   "source": [
    "M[:, :, :, :] ## Dimensiones ? -> (2, 3, 1, 1)\n",
    "#M[1, 2, 3, 4] ## Dimensiones ? -> 1D array con los valores de la matriz M en el indice especificado.\n",
    "#M[1, 2, 3, :] ## Dimensiones ? -> 1D array con los valores de la matriz M en el indice especificado.\n",
    "#M[:, [1, 2, 3], 4, :] ## Dimensiones ? -> 2D array con los valores de la matriz M en el indice especificado.\n",
    "M[:, [1, 2, 3], :, :] ## Dimensiones ? -> 3D array con los valores de la matriz M en el indice especificado.\n",
    "#M[[3, 2], 2, 4, :] ## Dimensiones ? -> 2D array con los valores de la matriz M en el indice especificado.\n",
    "#M[[3, 2], [2], [4], [1]]  ## Dimensiones ? -> 1D array con los valores de la matriz M en el indice especificado.\n",
    "#M[1, [1, 2, 3], 4, :] ## Dimensiones ? -> 2D array con los valores de la matriz M en el indice especificado.\n",
    "\n"
   ]
  },
  {
   "cell_type": "code",
   "execution_count": null,
   "metadata": {},
   "outputs": [],
   "source": [
    "N = [10 20 30; 40 50 60];"
   ]
  },
  {
   "cell_type": "markdown",
   "metadata": {},
   "source": [
    "##### ¿Por qué da error al intentar ejecutar N*M pero no N.*M? ¿Por qué da error al intentar ejecutar N>30 pero no N.>30?"
   ]
  },
  {
   "cell_type": "code",
   "execution_count": null,
   "metadata": {},
   "outputs": [],
   "source": [
    "#N > 30\n",
    "N .> 30\n",
    "## pORQUE DA ERROR ? -> Porque el operador > no esta definido para matrices, solo para escalares."
   ]
  },
  {
   "cell_type": "code",
   "execution_count": null,
   "metadata": {},
   "outputs": [],
   "source": [
    "M = Array{Float32,2}(undef, 10, 6) "
   ]
  },
  {
   "cell_type": "markdown",
   "metadata": {},
   "source": [
    "##### ¿Por qué dará error escribir M = Array{Float32,2}(undef, 10)?"
   ]
  },
  {
   "cell_type": "code",
   "execution_count": null,
   "metadata": {},
   "outputs": [],
   "source": [
    "#M = Array{Float32,2}(undef, 10)\n",
    "## Porque da error ? -> Porque el constructor Array{Float32,2} espera dos argumentos, el tipo de los elementos y las dimensiones de la matriz.\n",
    "## y cuantos le pasamos ? -> 3 "
   ]
  },
  {
   "cell_type": "markdown",
   "metadata": {},
   "source": [
    "#####  ¿Cuál será el resultado de las siguientes llamadas?"
   ]
  },
  {
   "cell_type": "code",
   "execution_count": null,
   "metadata": {},
   "outputs": [],
   "source": [
    "typeof(Array{Float32,2}(undef, 4, 15)) ### Salida esperada: Matrix{Float32}\n",
    "typeof(Array{Float32,2}) ## Salida esperada: DataType\n",
    "isa(Array{Float32,2}, Array{Float32,2}) ## Salida esperada: false\n",
    "isa(Array{Float32,2}(undef, 4, 10), Array{Float32,2}) ## Salida esperada: true"
   ]
  },
  {
   "cell_type": "markdown",
   "metadata": {},
   "source": [
    "##### Usar las funciones zeros o ones, que crean matrices del tamaño indicado donde todos los elementos son 0 o 1 respectivamente"
   ]
  },
  {
   "cell_type": "code",
   "execution_count": null,
   "metadata": {},
   "outputs": [],
   "source": [
    "zeros(10, 6) \n",
    "ones(13)"
   ]
  },
  {
   "cell_type": "markdown",
   "metadata": {},
   "source": [
    "##### Para concatenar dos vectores"
   ]
  },
  {
   "cell_type": "code",
   "execution_count": null,
   "metadata": {},
   "outputs": [],
   "source": [
    "[[1, 2, 3]; [4, 5, 6]]"
   ]
  },
  {
   "cell_type": "markdown",
   "metadata": {},
   "source": [
    "##### Para unir matrices, esto se realiza de forma similar, utilizando los corchetes, y separando las matrices por espacio, en caso de querer unirlas añadiendo nuevas columnas (poniendo una “al lado” de la otra), o separando las matrices por “;” en caso de querer unirlas añadiendo nuevas filas (poniendo una “debajo” de la otra). Por supuesto, en el primer caso tiene que coincidir el número de filas, y en el segundo tiene que coincidir el número de columnas."
   ]
  },
  {
   "cell_type": "code",
   "execution_count": null,
   "metadata": {},
   "outputs": [],
   "source": [
    "[[1 2 3; 4 5 6] [7 8 9; 10 11 12]] \n",
    "[[1 2 3; 4 5 6]; [7 8 9; 10 11 12]]"
   ]
  },
  {
   "cell_type": "markdown",
   "metadata": {},
   "source": [
    "##### ¿Cuál será el resultado de cada una de las dos operaciones anteriores?"
   ]
  },
  {
   "cell_type": "code",
   "execution_count": null,
   "metadata": {},
   "outputs": [],
   "source": [
    "[[1 2 3; 4 5 6] [7 8 9; 10 11 12]]"
   ]
  },
  {
   "cell_type": "code",
   "execution_count": null,
   "metadata": {},
   "outputs": [],
   "source": [
    "[[1 2 3; 4 5 6]; [7 8 9; 10 11 12]]"
   ]
  },
  {
   "cell_type": "markdown",
   "metadata": {},
   "source": [
    "#####  Si [[1, 2, 3]; [4, 5, 6]] permite concatenar vectores, ¿cuál será el resultado de las siguientes operaciones? ¿Cuál será el tipo del resultado?"
   ]
  },
  {
   "cell_type": "code",
   "execution_count": null,
   "metadata": {},
   "outputs": [],
   "source": [
    "[[1, 2, 3] [4, 5, 6]] "
   ]
  },
  {
   "cell_type": "code",
   "execution_count": null,
   "metadata": {},
   "outputs": [],
   "source": [
    "[[1, 2, 3], [4, 5, 6]] "
   ]
  },
  {
   "cell_type": "code",
   "execution_count": null,
   "metadata": {},
   "outputs": [],
   "source": [
    "[[1 2 3] [4 5 6]] "
   ]
  },
  {
   "cell_type": "code",
   "execution_count": null,
   "metadata": {},
   "outputs": [],
   "source": [
    "[[1 2 3]; [4 5 6]] "
   ]
  },
  {
   "cell_type": "code",
   "execution_count": null,
   "metadata": {},
   "outputs": [],
   "source": [
    "[[1 2 3], [4 5 6]]"
   ]
  }
 ],
 "metadata": {
  "kernelspec": {
   "display_name": "Julia 1.10.0",
   "language": "julia",
   "name": "julia-1.10"
  },
  "language_info": {
   "file_extension": ".jl",
   "mimetype": "application/julia",
   "name": "julia",
   "version": "1.10.0"
  }
 },
 "nbformat": 4,
 "nbformat_minor": 2
}
