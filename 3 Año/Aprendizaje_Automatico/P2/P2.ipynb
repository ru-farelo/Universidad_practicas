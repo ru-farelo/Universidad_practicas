{
 "cells": [
  {
   "cell_type": "code",
   "execution_count": 2,
   "metadata": {},
   "outputs": [],
   "source": [
    "using Flux;\n",
    "using DelimitedFiles;\n",
    "\n",
    "dataset = readdlm(\"../iris/iris.data\",','); \n",
    "inputs = dataset[:,1:4];"
   ]
  },
  {
   "cell_type": "markdown",
   "metadata": {},
   "source": [
    "##### Para el problema de regresion\n",
    "###### Para crear una RRNA en Julia, se puede usar la función Chain.\n"
   ]
  },
  {
   "cell_type": "code",
   "execution_count": 3,
   "metadata": {},
   "outputs": [],
   "source": [
    "###### ann = Chain(  \n",
    "###### Dense(10, 5, σ),  # 10 entradas, 5 neuronas en la capa oculta\n",
    "###### Dense(5, 1, identity) ); # 5 neuronas en la capa oculta, 1 salida\n",
    "\n",
    "###### ann = Chain( \n",
    "###### Dense(15, 12, σ), # 15 entradas, 12 neuronas en la capa oculta\n",
    "###### Dense(12, 5, σ), # 12 neuronas en la capa oculta, 5 neuronas en la capa oculta\n",
    "###### Dense(5, 2, identity) ); # 5 neuronas en la capa oculta, 2 salidas"
   ]
  },
  {
   "cell_type": "markdown",
   "metadata": {},
   "source": [
    " #####  ¿Qué ocurriría si todas las capas de la RNA tienen una función de transferencia lineal?\n",
    "\n",
    "  ######  Si todas las capas de la RNA tienen una función de transferencia lineal, la RNA en su conjunto también tendrá una función de transferencia lineal.  Esto se debe a que la composición de funciones lineales es una función lineal.  Por lo tanto, la RNA no podrá aprender relaciones no lineales entre las entradas y las salidas. "
   ]
  },
  {
   "cell_type": "markdown",
   "metadata": {},
   "source": [
    "\n",
    "##### Para el problema de clasificación"
   ]
  },
  {
   "cell_type": "code",
   "execution_count": 4,
   "metadata": {},
   "outputs": [],
   "source": [
    "# Si solo hay dos clases \n",
    "#ann = Chain( \n",
    " #Dense(8, 4, σ), \n",
    " #Dense(4, 1, σ) ); \n",
    "\n",
    "# Si solo hay mas de dos clases\n",
    "\n",
    "#ann = Chain( \n",
    " #Dense(9, 5, σ), \n",
    " #Dense(5, 3, identity), \n",
    " #softmax ); "
   ]
  },
  {
   "cell_type": "code",
   "execution_count": 5,
   "metadata": {},
   "outputs": [],
   "source": [
    " # Esta variable creada, de cualquiera de ambas formas, se puede usar como función. \n",
    " # Por ejemplo, sepuede coger la matriz inputs creada en la práctica anterior y pasársela a la RNA\n",
    " # dando lugar a las salidas de la red simplemente escribiendo lo siguiente\n",
    " \n",
    "# outputs = ann(inputs);"
   ]
  },
  {
   "cell_type": "markdown",
   "metadata": {},
   "source": [
    "#####  Como se puede ver, en primer lugar se comprueba el número de filas de la matriz de salidas deseadas (y), ¿por qué se comprueba el número de filas y no el de columnas?"
   ]
  },
  {
   "cell_type": "markdown",
   "metadata": {},
   "source": [
    "###### En el caso específico de la matriz de salidas deseadas (y),  comprobamos el número de filas porque cada fila representa una observación o un resultado deseado.Si estamos modelando un sistema, como un controlador, queremos asegurarnos de que tengamos suficientes observaciones (filas) para entrenar correctamente el modelo y predecir las salidas deseadas."
   ]
  },
  {
   "cell_type": "markdown",
   "metadata": {},
   "source": [
    "##### ¿Podría hacerse un criterio de parada similar pero con el error de test? ¿Por qué? "
   ]
  },
  {
   "cell_type": "markdown",
   "metadata": {},
   "source": [
    "###### No se puede usar el error de test como criterio de parada, porque el conjunto de test no debe usarse para entrenar la RNA, sino para evaluar su rendimiento una vez entrenada."
   ]
  },
  {
   "cell_type": "markdown",
   "metadata": {},
   "source": [
    "##### Desarrollar una función llamada oneHotEncoding, que contenga el código desarrollado en la práctica anterior relativo a la codificación de una entrada o salida categórica. Es decir, que reciba un vector de valores y lo codifique como se explicó en esa práctica."
   ]
  },
  {
   "cell_type": "markdown",
   "metadata": {},
   "source": [
    "###### Esta función recibirá dos parámetros, llamados feature y classes, ambos de tipo AbstractArray{<:Any,1}, es decir, son vectores que contienen cualquier tipo de valor. El primero tiene los valores de ese atributo o salida deseada para cada patrón, y el segundo tiene los valores de las categorías.\n",
    "\n",
    "##### Esta función debería realizar las siguientes tareas:\n",
    "\n",
    "###### Si el número de valores en el vector classes es igual a 2, se compara el vector delatributo con una de las dos clases realizando un broadcast del operador == para generar, de esta manera, un vector de valores booleanos. Posteriormente, se transforma ese vector en una matriz bidimensional de una columna y se devuelve. Para hacer esto último, consultad la función reshape.\n",
    "\n",
    "\n",
    "###### Si el número de valores en el vector classes es mayor que 2, en primer lugar se crea una matriz de valores booleanos (del tipo Array{Bool,2} o BitArray{2}) con tantas filas como patrones y tantas columnas como categorías (una columna por categoría)Posteriormente, se itera sobre cada columna/categoría, y se asignan los valores de esa columna como el resultado de comparar el vector feature con la categoría correspondiente realizando un broadcast igual que en el punto anterior.\n",
    "\n",
    "###### En ambos casos, la matriz resultante debería tener tantas filas como patrones. Es decir, que estos se sitúen en las filas, no en las columnas. Al igual que en la práctica anterior, a pesar de que no es necesario, para esta función se permite realizar un único bucle, que recorra las clases, únicamente para el caso de tener másde dos clases."
   ]
  },
  {
   "cell_type": "code",
   "execution_count": 6,
   "metadata": {},
   "outputs": [
    {
     "data": {
      "text/plain": [
       "oneHotEncoding (generic function with 1 method)"
      ]
     },
     "metadata": {},
     "output_type": "display_data"
    }
   ],
   "source": [
    "\n",
    "function oneHotEncoding(feature::AbstractArray{<:Any,1}, classes::AbstractArray{<:Any,1}) \n",
    "    n = length(feature);\n",
    "    m = length(classes);\n",
    "    oneHot = zeros(n,m);\n",
    "    for i in 1:n\n",
    "        for j in 1:m\n",
    "            if feature[i] == classes[j]\n",
    "                oneHot[i,j] = 1;\n",
    "            end\n",
    "        end\n",
    "    end\n",
    "    return oneHot;\n",
    "end"
   ]
  },
  {
   "cell_type": "markdown",
   "metadata": {},
   "source": [
    "##### Sobrecargar esta función llamada oneHotEncoding de estas dos maneras:\n",
    "\n",
    "###### Una que reciba un único parámetro llamado feature, de tipo AbstractArray{<:Any,1}, y que tome las categorías y realice una llamada a la función anterior. Para extraer las categorías se puede usar la función unique. Desarrollar esta función sin declararla explícitamente mediante la palabra function."
   ]
  },
  {
   "cell_type": "code",
   "execution_count": 39,
   "metadata": {},
   "outputs": [
    {
     "data": {
      "text/plain": [
       "oneHotEncoding (generic function with 3 methods)"
      ]
     },
     "metadata": {},
     "output_type": "display_data"
    }
   ],
   "source": [
    "function oneHotEncoding(feature::AbstractArray{<:Any,1}) \n",
    "    classes = falses(feature);\n",
    "    n = length(feature);\n",
    "    m = length(classes);\n",
    "    oneHot = zeros(n,m);\n",
    "    for i in 1:n\n",
    "        for j in 1:m\n",
    "            if feature[i] == classes[j]\n",
    "                oneHot[i,j] = 1;\n",
    "            end\n",
    "        end\n",
    "    end\n",
    "    return oneHot;\n",
    "end"
   ]
  },
  {
   "cell_type": "markdown",
   "metadata": {},
   "source": [
    "###### Otra función que reciba un único parámetro llamado feature, de tipo AbstractArray{Bool,1}, y por tanto será un vector que contiene para cada patrón solamente dos posibilidades. Al ser dos categorías, la matriz de salida deberá tener una única columna, que tenga los mismos elementos. Una forma sencilla de hacer esta función es utilizando la función reshape. Para el desarrollo de estas funciones no se permite realizar ningún bucle."
   ]
  },
  {
   "cell_type": "code",
   "execution_count": 8,
   "metadata": {},
   "outputs": [
    {
     "data": {
      "text/plain": [
       "oneHotEncoding (generic function with 3 methods)"
      ]
     },
     "metadata": {},
     "output_type": "display_data"
    }
   ],
   "source": [
    "function oneHotEncoding(feature::AbstractArray{Bool,1})\n",
    "    return reshape(feature, :, 1)\n",
    "end \n",
    " "
   ]
  },
  {
   "cell_type": "markdown",
   "metadata": {},
   "source": [
    "##### Desarrollar una serie de funciones que permitan normalizar los datos utilizando el código desarrollado en la práctica anterior. Para esto, desarrollar las siguientes funciones:"
   ]
  },
  {
   "cell_type": "markdown",
   "metadata": {},
   "source": [
    "\n",
    "###### Dos funciones llamadas calculateMinMaxNormalizationParameters y calculateZeroMeanNormalizationParameters que reciban un parámetro de tipo AbstractArray{<:Real,2} y devuelvan una tupla con dos valores, cada uno de ellos será una matriz con una fila, con los mínimos y máximos de cada columna (primera función) o medias y desviaciones típicas para cada columna (segunda función). Para el desarrollo de estas funciones no se permite utilizar ningún bucle"
   ]
  },
  {
   "cell_type": "code",
   "execution_count": 9,
   "metadata": {},
   "outputs": [
    {
     "data": {
      "text/plain": [
       "calculateMinMaxNormalizationParameters (generic function with 1 method)"
      ]
     },
     "metadata": {},
     "output_type": "display_data"
    }
   ],
   "source": [
    "function calculateMinMaxNormalizationParameters(data::AbstractArray{<:Real,2})\n",
    "    return (minimum(data, dims=1), maximum(data, dims=1))\n",
    "end\n"
   ]
  },
  {
   "cell_type": "code",
   "execution_count": 10,
   "metadata": {},
   "outputs": [
    {
     "data": {
      "text/plain": [
       "calculateZeroMeanNormalizationParameters (generic function with 1 method)"
      ]
     },
     "metadata": {},
     "output_type": "display_data"
    }
   ],
   "source": [
    "\n",
    "function calculateZeroMeanNormalizationParameters(data::AbstractArray{<:Real,2})\n",
    "    return (mean(data, dims=1), std(data, dims=1))\n",
    "end"
   ]
  },
  {
   "cell_type": "markdown",
   "metadata": {},
   "source": [
    "###### Cuatro funciones para normalizar entre máximo y mínimo. La primera de ellas, llamada normalizeMinMax! recibe dos parámetros, una matriz de valores a normalizar (de tipo AbstractArray{<:Real,2}) y los parámetros de normalización (de tipo NTuple{2, AbstractArray{<:Real,2}}), ejecute el código de la práctica anterior referido a normalizar entre máximo y mínimo y devuelva la misma matriz con los datos normalizados. Posteriormente, realizar otra función del mismo nombre(sobrecargada) pero con un único parámetro que sea la matriz de datos, y lo que haráserá calcular los parámetros de normalización con la función desarrollada en el punto anterior y llamar a la función normalizeMinMax!. Estas dos funciones terminan en “!” porque se modifica la matriz de valores pasada como parámetro. Realizar otras dos funciones de nombres normalizeMinMax que realicen las mismas, pero que no modifiquen la matriz de datos, es decir, que creen una nueva, la modifiquen y se devuelva esta. Para ello, consultar la función copy. Estas dos funciones deberían realizar llamadas a las funciones anteriores. Ninguna de estas cuatro funciones debe utilizar bucles en su interior."
   ]
  },
  {
   "cell_type": "code",
   "execution_count": 11,
   "metadata": {},
   "outputs": [
    {
     "data": {
      "text/plain": [
       "normalizeMinMax! (generic function with 1 method)"
      ]
     },
     "metadata": {},
     "output_type": "display_data"
    }
   ],
   "source": [
    "function normalizeMinMax!(dataset::AbstractArray{<:Real, 2}, \n",
    "    normalizationParameters::NTuple{2, AbstractArray{<:Real, 2}})\n",
    "(min, max) = normalizationParameters\n",
    "dataset .-= min\n",
    "dataset ./= (max - min)\n",
    "end\n"
   ]
  },
  {
   "cell_type": "code",
   "execution_count": 12,
   "metadata": {},
   "outputs": [
    {
     "data": {
      "text/plain": [
       "normalizeMinMax! (generic function with 2 methods)"
      ]
     },
     "metadata": {},
     "output_type": "display_data"
    }
   ],
   "source": [
    "\n",
    "function normalizeMinMax!(dataset::AbstractArray{<:Real, 2}) \n",
    "(min, max) = calculateMinMaxNormalizationParameters(dataset)\n",
    "normalizeMinMax!(dataset, (min, max))\n",
    "end\n"
   ]
  },
  {
   "cell_type": "code",
   "execution_count": 13,
   "metadata": {},
   "outputs": [
    {
     "data": {
      "text/plain": [
       "normalizeMinMax (generic function with 1 method)"
      ]
     },
     "metadata": {},
     "output_type": "display_data"
    }
   ],
   "source": [
    "\n",
    "function normalizeMinMax(dataset::AbstractArray{<:Real, 2}, \n",
    "    normalizationParameters::NTuple{2, AbstractArray{<:Real, 2}})\n",
    "normalizeMinMax!(copy(dataset), normalizationParameters)\n",
    "end\n"
   ]
  },
  {
   "cell_type": "code",
   "execution_count": 14,
   "metadata": {},
   "outputs": [
    {
     "data": {
      "text/plain": [
       "normalizeMinMax (generic function with 2 methods)"
      ]
     },
     "metadata": {},
     "output_type": "display_data"
    }
   ],
   "source": [
    "\n",
    "function normalizeMinMax(dataset::AbstractArray{<:Real, 2})\n",
    "normalizeMinMax!(copy(dataset))\n",
    "end\n",
    "\n"
   ]
  },
  {
   "cell_type": "markdown",
   "metadata": {},
   "source": [
    "###### Realizar otras cuatro funciones análogas para el caso de realizar una normalización de media 0, cuyos nombres serán normalizeZeroMean! y normalizeZeroMean. Al igual que en las anteriores, ninguna de estas cuatro funciones debe utilizar bucles en su interior."
   ]
  },
  {
   "cell_type": "code",
   "execution_count": 15,
   "metadata": {},
   "outputs": [
    {
     "data": {
      "text/plain": [
       "normalizeZeroMean! (generic function with 1 method)"
      ]
     },
     "metadata": {},
     "output_type": "display_data"
    }
   ],
   "source": [
    "function normalizeZeroMean!(data::AbstractArray{<:Real,2}, params::NTuple{2, AbstractArray{<:Real,2}})\n",
    "    data .= (data .- params[1]) ./ params[2]\n",
    "end\n"
   ]
  },
  {
   "cell_type": "code",
   "execution_count": 16,
   "metadata": {},
   "outputs": [
    {
     "data": {
      "text/plain": [
       "normalizeZeroMean! (generic function with 2 methods)"
      ]
     },
     "metadata": {},
     "output_type": "display_data"
    }
   ],
   "source": [
    "\n",
    "function normalizeZeroMean!(data::AbstractArray{<:Real,2})\n",
    "    params = calculateZeroMeanNormalizationParameters(data)\n",
    "    normalizeZeroMean!(data, params)\n",
    "end\n"
   ]
  },
  {
   "cell_type": "code",
   "execution_count": 17,
   "metadata": {},
   "outputs": [
    {
     "data": {
      "text/plain": [
       "normalizeZeroMean (generic function with 1 method)"
      ]
     },
     "metadata": {},
     "output_type": "display_data"
    }
   ],
   "source": [
    "\n",
    "function normalizeZeroMean(data::AbstractArray{<:Real,2}, params::NTuple{2, AbstractArray{<:Real,2}})\n",
    "    copy(data) .= (data .- params[1]) ./ params[2]\n",
    "end\n"
   ]
  },
  {
   "cell_type": "code",
   "execution_count": 18,
   "metadata": {},
   "outputs": [
    {
     "data": {
      "text/plain": [
       "normalizeZeroMean (generic function with 2 methods)"
      ]
     },
     "metadata": {},
     "output_type": "display_data"
    }
   ],
   "source": [
    "\n",
    "function normalizeZeroMean(data::AbstractArray{<:Real,2})\n",
    "    params = calculateZeroMeanNormalizationParameters(data)\n",
    "    normalizeZeroMean(data, params)\n",
    "end"
   ]
  },
  {
   "cell_type": "markdown",
   "metadata": {},
   "source": [
    "###### Desarrollar una función llamada classifyOutputs, que reciba un parámetro llamado outputsde tipo AbstractArray{<:Real,1}, es decir, un vector, con las salidas de un modelo (no necesariamente una RNA) que emita únicamente una salida, para un problema de clasificación binaria. Este vector deberá contener un valor de salida real para cada patrón, y realizará la clasificación devolviendo el vector de valores binarios correspondientes. Esta función recibirá un parámetro opcional, llamado threshold, de tipo Real, con un valor por defecto de 0.5. Esta función se puede implementar realizando un broadcast del operador >= para generar de esta manera el vector de valores booleanos. Para la realización de esta función no se permite el uso de bucles."
   ]
  },
  {
   "cell_type": "code",
   "execution_count": 19,
   "metadata": {},
   "outputs": [
    {
     "data": {
      "text/plain": [
       "classifyOutputs (generic function with 2 methods)"
      ]
     },
     "metadata": {},
     "output_type": "display_data"
    }
   ],
   "source": [
    "function classifyOutputs(outputs::AbstractArray{<:Real,1}, threshold::Real=0.5)\n",
    "    return outputs .>= threshold\n",
    "end"
   ]
  },
  {
   "cell_type": "markdown",
   "metadata": {},
   "source": [
    "###### Desarrollar una función llamada classifyOutputs (es decir, sobrecargar la función anterior) que reciba en este caso una matriz en lugar de un vector, como un parámetro llamado outputs de tipo AbstractArray{<:Real,2} con las salidas de un modelo (no necesariamente una RNA) con un patrón en cada fila y lo convierta a una matriz de valores booleanos que cada fila sólo tenga un valor a true, que indica la clase a la que se clasifica ese patrón. Para realizar esto, mirar en primer lugar el número de columnas que tiene la matriz outputs, y en función de ello hacer lo siguiente:\n",
    "\n",
    "###### Si tiene una columna, convertir esta matriz de una columna en un vector y hacer una llamada a la función anterior. Para realizar esto, es necesario que la función reciba como parámetro opcional el valor del umbral (threshold), con un valor por defecto de 0.5. Para convertir la matriz en un vector, esto se puede hacer de una forma sencilla con outputs[:]. Como resultado de esta llamada, se obtiene un vector, que será necesario convertir de nuevo en una matriz con una columna mediante la funciónreshape.\n",
    "\n",
    "######  Si tiene más de una columna, se deberá crear una matriz de valores booleanos del mismo tamaño, y, para cada fila, poner a true la columna con un valor mayor. Esto se puede realizar sin necesidad de escribir ningún bucle."
   ]
  },
  {
   "cell_type": "code",
   "execution_count": 20,
   "metadata": {},
   "outputs": [
    {
     "data": {
      "text/plain": [
       "classifyOutputs (generic function with 4 methods)"
      ]
     },
     "metadata": {},
     "output_type": "display_data"
    }
   ],
   "source": [
    "function classifyOutputs(outputs::AbstractArray{<:Real,2}, threshold::Real=0.5)\n",
    "    if size(outputs, 2) == 1\n",
    "        return reshape(classifyOutputs(outputs[:], threshold), :, 1)\n",
    "    else\n",
    "        return argmax(outputs, dims=2) .== 1:size(outputs, 2)\n",
    "    end\n",
    "end"
   ]
  },
  {
   "cell_type": "markdown",
   "metadata": {},
   "source": [
    "##### Este ejercicio junto con el siguiente está pensado para desarrollar habilidad en programación vectorial. Por este motivo, al igual que en las funciones anteriores, no debe contener bucles en su interior. A continuación se detallan los pasos que se podrían dar para escribir el código para este segundo escenario, cuando se tiene más de una columna (suponiendo que cadapatrón está en cada fila):"
   ]
  },
  {
   "cell_type": "markdown",
   "metadata": {},
   "source": [
    "###### En primer lugar, es necesario averiguar, para cada fila, en qué columna está el valor máximo de salida para cada patrón. Esto se puede hacer con la función findmax, que devuelve una tupla con dos valores: el máximo en cada fila o columna, y las coordenadas en la matriz en la que se encontró ese máximo, que es lo que realmente nos interesa. Con el keyword dims se puede indicar si se quiere buscar los máximos en las filas o en las columnas. La línea de código sería la siguiente:"
   ]
  },
  {
   "cell_type": "code",
   "execution_count": 21,
   "metadata": {},
   "outputs": [],
   "source": [
    "# (_,indicesMaxEachInstance) = findmax(outputs, dims=2);"
   ]
  },
  {
   "cell_type": "markdown",
   "metadata": {},
   "source": [
    "######  Una vez se tiene, se puede crear una matriz booleana de la misma dimensionalidad que la matriz de salidas, donde cada valor indique la pertenencia a la clase correspondiente de ese patrón. Esta matriz se inicializa con todos los valores a false, por lo que se puede crear fácilmente con la función falses. Esto se puede hacer con:"
   ]
  },
  {
   "cell_type": "code",
   "execution_count": 22,
   "metadata": {},
   "outputs": [],
   "source": [
    "#outputs = falses(size(outputs)); "
   ]
  },
  {
   "cell_type": "markdown",
   "metadata": {},
   "source": [
    "###### Finalmente, se asignan a true en esta matriz los valores de los índices que contienen los mayores valores de cada fila, que están recogidos en la variable indicesMaxEachInstance creada anteriormente. Esto se puede realizar se compara con la matriz targets de la siguiente manera:"
   ]
  },
  {
   "cell_type": "code",
   "execution_count": 23,
   "metadata": {},
   "outputs": [],
   "source": [
    "#outputs[indicesMaxEachInstance] .= true;"
   ]
  },
  {
   "cell_type": "markdown",
   "metadata": {},
   "source": [
    "##### Desarrollar una función llamada accuracy dado una matriz de salidas deseadas (targets) y otra de salidas emitidas por un modelo (no necesariamente una RNA) (outputs), calcule la precisión en un problema de clasificación. Ambas matrices deberán tener un número de filas igual al número de patrones, es decir, cada patrón estará colocado en cada fila. Desarrollar esta función de tal forma que funcione para los casos de tener 2 clases (una neurona de salida) como más de dos clases (una neurona de salida por clase).\n",
    "\n",
    "##### Para hacer esta función, desarrollar cuatro funciones con el mismo nombre:"
   ]
  },
  {
   "cell_type": "markdown",
   "metadata": {},
   "source": [
    "###### Una primera en la que targets y outputs sean de tipo AbstractArray{Bool,1}, es decir, vectores de valores booleanos. La precisión será simplemente el valor promedio de la comparación de ambos vectores"
   ]
  },
  {
   "cell_type": "code",
   "execution_count": 24,
   "metadata": {},
   "outputs": [
    {
     "data": {
      "text/plain": [
       "accuracy (generic function with 1 method)"
      ]
     },
     "metadata": {},
     "output_type": "display_data"
    }
   ],
   "source": [
    "function accuracy(targets::AbstractArray{Bool,1}, outputs::AbstractArray{Bool,1})\n",
    "    return mean(targets .== outputs)\n",
    "end"
   ]
  },
  {
   "cell_type": "markdown",
   "metadata": {},
   "source": [
    "###### Otra función en la que targets y outputs sean de tipo AbstractArray{Bool,2}, es decir , matrices bidimensionales de valores booleanos. En este caso, será necesario examinar el número de columnas. Si sólo tienen una columna, se realizará una llamada a la función anterior tomando como vectores la primera columna de targets y outputs. Si el número de columnas es mayor que 2, será necesario comparar ambas matrices mirando en qué filas no coinciden los valores"
   ]
  },
  {
   "cell_type": "code",
   "execution_count": 25,
   "metadata": {},
   "outputs": [
    {
     "data": {
      "text/plain": [
       "accuracy (generic function with 2 methods)"
      ]
     },
     "metadata": {},
     "output_type": "display_data"
    }
   ],
   "source": [
    "function accuracy(outputs::AbstractArray{Bool,2}, targets::AbstractArray{Bool,2})\n",
    "    return mean(outputs .== targets)\n",
    "end"
   ]
  },
  {
   "cell_type": "markdown",
   "metadata": {},
   "source": [
    "##### ¿Qué ocurre si el número de columnas es igual a 2?\n",
    "\n",
    "###### Si el número de columnas es igual a 2, se realizará una llamada a la función anterior tomando  como vectores la primera columna de targets y outputs."
   ]
  },
  {
   "cell_type": "markdown",
   "metadata": {},
   "source": [
    "###### Otra función en la targets sea de tipo AbstractArray{Bool,1} (un vector de valores booleanos) mientras que outputs sea de tipo AbstractArray{<:Real,1}, es decir, sean salidas reales que no se hayan interpretado todavía como valores de pertenencia a clase “positivo”/”negativo”. En este caso, la función podría aceptar un parámetro opcional threshold con un valor por defecto de 0.5, y lo que haría sería pasarle el umbral al vector outputs, y llamar a la función anterior accuracy"
   ]
  },
  {
   "cell_type": "code",
   "execution_count": 26,
   "metadata": {},
   "outputs": [
    {
     "data": {
      "text/plain": [
       "accuracy (generic function with 4 methods)"
      ]
     },
     "metadata": {},
     "output_type": "display_data"
    }
   ],
   "source": [
    "function accuracy(targets::AbstractArray{Bool,1}, outputs::AbstractArray{<:Real,1}, threshold::Real=0.5)\n",
    "    return accuracy(targets, classifyOutputs(outputs, threshold))\n",
    "end"
   ]
  },
  {
   "cell_type": "markdown",
   "metadata": {},
   "source": [
    "###### Finalmente, otra función en la targets sea de tipo AbstractArray{Bool,2} (una matriz de valores booleanos) mientras que outputs sea de tipo AbstractArray{<:Real,2}, es decir, sean salidas reales que no se hayan interpretado todavía como valores de pertenencia a N clases (N: número de columnas). En este caso, es necesario nuevamente distinguir si se tienen 1 o más de 2 columnas. En el primero caso se hará una llamada a accuracy con los vectores correspondientes a la primera columna de outputs y targets. En el segundo caso, se hará una llamada a la función classifyOutputs para convertir outputs en una variable de tipo AbstractArray{Bool,2}, y posteriormente hacer una llamada a accuracy"
   ]
  },
  {
   "cell_type": "code",
   "execution_count": 27,
   "metadata": {},
   "outputs": [
    {
     "data": {
      "text/plain": [
       "accuracy (generic function with 6 methods)"
      ]
     },
     "metadata": {},
     "output_type": "display_data"
    }
   ],
   "source": [
    "function accuracy(targets::AbstractArray{Bool,2}, outputs::AbstractArray{<:Real,2}, threshold::Real=0.5)\n",
    "    return accuracy(reshape(targets, :, 1), classifyOutputs(outputs, threshold))\n",
    "end"
   ]
  },
  {
   "cell_type": "markdown",
   "metadata": {},
   "source": [
    "##### Este ejercicio junto con el anterior está pensado para desarrollar habilidad en programación vectorial, por lo que no se permite el uso de bucles en ninguna de estas funciones. A continuación se detallan los pasos que se podrían dar para escribir el código para calcular la precisión con más de 2 clases, los patrones dispuestos en filas, y tanto outputs como targets ya son de tipo AbstractArray{Bool,2}:"
   ]
  },
  {
   "cell_type": "markdown",
   "metadata": {},
   "source": [
    "###### Una vez la variable outputs tiene la forma deseada (matriz de valores booleanos), se compara con la matriz targets de la siguiente manera:"
   ]
  },
  {
   "cell_type": "code",
   "execution_count": 28,
   "metadata": {},
   "outputs": [],
   "source": [
    "#classComparison = targets .== outputs"
   ]
  },
  {
   "cell_type": "markdown",
   "metadata": {},
   "source": [
    "###### En esta nueva matriz, para cada patrón, cuando la clase coincide, todos los elementos de esa fila serán true. En cambio, cuando la clase no coincida, más de un elemento de esa fila serán false. Por lo tanto, una forma de saber para un patrón si está bien clasificado es mirar si en su fila todos los elementos son true. Esto se puede comprobar con la función all, que recibe un array y devuelve true si todos los elementos son true, pero también acepta el keyword “dims”, con el que aplica esta misma función a través de la dimensión indicada. Para hacerlo en las filas, habría que hacer así:"
   ]
  },
  {
   "cell_type": "code",
   "execution_count": 29,
   "metadata": {},
   "outputs": [],
   "source": [
    "#correctClassifications = all(classComparison, dims=2) "
   ]
  },
  {
   "cell_type": "markdown",
   "metadata": {},
   "source": [
    "###### Finalmente, sólo resta hacer la media de esta matriz. Recordad que se puede operar con valores booleanos igual que con valores reales, en este caso será tratados como 0 o 1."
   ]
  },
  {
   "cell_type": "code",
   "execution_count": 30,
   "metadata": {},
   "outputs": [],
   "source": [
    "#accuracy = mean(correctClassifications)"
   ]
  },
  {
   "cell_type": "markdown",
   "metadata": {},
   "source": [
    "######  Estos últimos pasos podrían haberse dado mirando, en lugar de las coincidencias entre las dos matrices, los patrones en los que no hay coincidencias. Para eso se puede usar la función any, que recibe una matriz de valores booleanos y devuelve true si hay algún valor igual a true, y acepta también los el keyword “dims”. Se calcularía de esta forma la tasa de error en lugar de la precisión, pero esta se puede calcular a partir de la primera simplemente restándosela a la unidad. El código sería de esta manera:"
   ]
  },
  {
   "cell_type": "code",
   "execution_count": 31,
   "metadata": {},
   "outputs": [],
   "source": [
    "#classComparison = targets .!= outputs \n",
    "#incorrectClassifications = any(classComparison, dims=2) \n",
    "#accuracy = 1 - mean(incorrectClassifications)"
   ]
  },
  {
   "cell_type": "markdown",
   "metadata": {},
   "source": [
    "##### Desarrollar una función llamada buildClassANN para crear RR.NN.AA. para resolverproblemas de clasificación. Esta función debe recibir la topología (número de capas ocultas yneuronas en cada una, y opcionalmente funciones de activación en cada capa oculta), elnúmero de neuronas de entrada y el número de neuronas de salida.o Tened en cuenta que la función de transferencia de la capa de salida no viene dada por el usuario sino por el propio problema (regresión/clasificación). De igual manera,el número de neuronas de las capas de entrada y salida vienen dadas por el problema a resolver."
   ]
  },
  {
   "cell_type": "markdown",
   "metadata": {},
   "source": [
    "###### Una forma sencilla de crear esta RNA es que reciba la topología como un parámetro llamadotopology de tipo AbstractArray{<:Int,1}, que contiene el número de neuronas de cada capaoculta (vacío para redes sin capas ocultas), y cree la RNA de la siguiente manera: o Crea una RNA vacía con la siguiente línea:"
   ]
  },
  {
   "cell_type": "code",
   "execution_count": 32,
   "metadata": {},
   "outputs": [],
   "source": [
    "#ann = Chain(); \n",
    "#o Crear una variable numInputsLayer, inicialmente igual al número de entradas de la\n",
    "#RNA."
   ]
  },
  {
   "cell_type": "markdown",
   "metadata": {},
   "source": [
    "###### Si hay capas ocultas, es decir, si el vector topology no está vacío, iterar por este vector(el valor del bucle será igual al número de neuronas en cada capa) y en cada iteración crear una capa oculta donde el número de entradas será igual al valor de la variable numInputsLayer y el número de salidas igual al valor actual del bucle. Si no se ha indicado la función de transferencia de cada capa oculta, usar la misma función de transferencia  σ  en todas las capas ocultas. Después de esto, actualizar el valor de numInputsLayer al valor usado en esa iteración. Esto se puede hacer con las líneas:"
   ]
  },
  {
   "cell_type": "code",
   "execution_count": 33,
   "metadata": {},
   "outputs": [],
   "source": [
    "#for numOutputsLayer = topology \n",
    "# ann = Chain(ann..., Dense(numInputsLayer, numOutputsLayer, σ) ); \n",
    "# numInputsLayer = numOutputsLayer; \n",
    "#end; "
   ]
  },
  {
   "cell_type": "markdown",
   "metadata": {},
   "source": [
    "###### Si estas líneas se escriben en el script sin estar dentro de un bucle o función, al compilar el código dará varios warning y el código no funcionará correctamente. Esto se corrige automáticamente al usar este código dentro de una función. Para usarlo en el cuerpo principal, habría que escribir la línea global ann, numInputsLayer; al principio del bucle.\n",
    "\n",
    "###### Finalmente, añadir la capa final, con el número de neuronas y función de transferencia adecuada al número de clases como se ha descrito anteriormente, añadiendo la función softmax si hay más de dos clases de salida. Como se indica, para el desarrollo de esta función se puede emplear un bucle."
   ]
  },
  {
   "cell_type": "code",
   "execution_count": 34,
   "metadata": {},
   "outputs": [
    {
     "data": {
      "text/plain": [
       "buildClassANN (generic function with 1 method)"
      ]
     },
     "metadata": {},
     "output_type": "display_data"
    }
   ],
   "source": [
    "function buildClassANN(numInputs::Int, topology::AbstractArray{<:Int,1}, numOutputs::Int; \n",
    "  transferFunctions::AbstractArray{<:Function,1}=fill(σ, length(topology))) \n",
    "  ann = Chain(); \n",
    "  numInputsLayer = numInputs; \n",
    "  for (numOutputsLayer, transferFunction) in zip(topology, transferFunctions) \n",
    "    ann = Chain(ann..., Dense(numInputsLayer, numOutputsLayer, transferFunction) ); \n",
    "    numInputsLayer = numOutputsLayer; \n",
    "  end; \n",
    "  ann = Chain(ann..., Dense(numInputsLayer, numOutputs, identity) ); \n",
    "  return ann; \n",
    "end"
   ]
  },
  {
   "cell_type": "markdown",
   "metadata": {},
   "source": [
    "##### Crear una función llamada trainClassANN que cree una RNA para realizar clasificación (mediante una llamada a la función anterior) y la entrene. Para ello, esta función debería implementar un bucle en el que se entrene la RNA con el conjunto de entrenamiento pasado como parámetro hasta que se cumple uno de los criterios de parada pasados como parámetros. La función debería devolver la RNA entrenada. Esta función debería aceptar los siguientes parámetros:"
   ]
  },
  {
   "cell_type": "markdown",
   "metadata": {},
   "source": [
    "###### topology, de tipo AbstractArray{<:Int,1} con la topología (capas ocultas) de la RNA.\n",
    "\n",
    "###### dataset, de tipo Tuple{AbstractArray{<:Real,2}, AbstractArray{Bool,2}} con la matriz de entradas y salidas deseadas. A partir de estas matrices se puede obtener el número de neuronas de entrada y salida, necesarias para realizar la llamada a la función anterior, mediante la función size.\n",
    "\n",
    "###### Como se puede ver, la matriz de entradas puede contener datos de tipo Float64 o Float32. Como se ha explicado anteriormente, por defecto las redes de neuronas implementan sus parámetros (pesos y bias) en Float32, por lo que es mejor utilizar este tipo, además de por los otros motivos ya explicados (eficiencia, uso de GPU, menor uso de memoria). Para esto, se podría utilizar como tipo del dataset Tuple{AbstractArray{Float32,2}, AbstractArray{Bool,2}}. Sin embargo, se deja al usuario la posibilidad de usar tanto Float32 como Float64, y será su responsabilidad usar un tipo de datos coherente en todo el uso de las redes de neuronas, que, como se ha dicho, habitualmente es Float32.\n",
    "\n",
    "######  Parámetros opcionales que controlen otros aspectos del algoritmo como el criterio de parada del algoritmo, con valores por defecto, por ejemplo: maxEpochs (de tipo Int, con un valor por defecto 1000), minLoss (de tipo Real, con valor por defecto 0), o learningRate (de tipo Real, con valor por defecto 0.01).\n",
    "\n",
    "###### Es importante destacar que el conjunto de patrones aquí utilizado tendrá cada patrón en una fila, mientras que la librería Flux (en general, la mayoría de las librerías de AA.GG. lo hacen) esperan matrices en las que cada patrón esté en una columna. Esto no supone un problema, únicamente es necesario trasponer las matrices en ciertas ocasiones, como cuando se proveen a la función para entrenar un ciclo la RNA, al calcular el valor de loss, o al tomar las matrices de salidas que se obtienen al ejecutar la RNA.\n",
    "\n",
    "###### Recordad que una llamada a la función train! entrena la RNA un solo ciclo. Por tanto, es necesario, en primer lugar, crear la RNA mediante una llamada a la función anterior, y posteriormente ejecutar un bucle en el que en cada iteración se llame una única vez a la función train! Es decir, si se quiere entrenar durante n ciclos, este bucle tendrá que realizar n iteraciones.\n",
    "\n",
    "###### Esta función debería devolver una tupla con dos elementos, donde el primero debe ser la RNA entrenada y el segundo un vector con los valores de loss en cada ciclo de entrenamiento.\n",
    "\n",
    "###### Para la realización de esta función se permite realizar un único bucle, que itere sobre cada ciclo de entrenamiento.\n",
    "###### Esta función será modificada en el siguiente ejercicio.\n"
   ]
  },
  {
   "cell_type": "code",
   "execution_count": 41,
   "metadata": {},
   "outputs": [
    {
     "data": {
      "text/plain": [
       "trainClassANN (generic function with 1 method)"
      ]
     },
     "metadata": {},
     "output_type": "display_data"
    }
   ],
   "source": [
    "\n",
    "function trainClassANN(topology::AbstractArray{<:Int,1},\n",
    "    dataset::Tuple{AbstractArray{<:Real,2}, AbstractArray{Bool,2}};\n",
    "    transferFunctions::AbstractArray{<:Function,1}=fill(σ, length(topology)),\n",
    "    maxEpochs::Int=1000, minLoss::Real=0.0, learningRate::Real=0.01)\n",
    "\n",
    "    x = dataset[1]'\n",
    "    y = dataset[2]'\n",
    "    loss_vector = zeros(maxEpochs)\n",
    "    numInputs = size(x, 1)\n",
    "    numOutputs = size(y, 1)\n",
    "    ann = buildClassANN(numInputs, topology, numOutputs; transferFunctions=transferFunctions)\n",
    "    loss(model, x,y) = (size(y,1) == 1) ? Losses.binarycrossentropy(model(x),y) : Losses.crossentropy(model(x),y);\n",
    "    opt_state = Flux.setup(Adam(learningRate), ann)\n",
    "    for epoch in 1:maxEpochs\n",
    "        if loss(ann, x, y) == minLoss\n",
    "            break\n",
    "        end\n",
    "        Flux.train!(loss, ann, [(x,y)], opt_state)\n",
    "        loss_vector[epoch] = loss(ann, x, y)\n",
    "    end \n",
    "    return (ann, loss_vector)\n",
    "end \n",
    "\n",
    "\n"
   ]
  },
  {
   "cell_type": "markdown",
   "metadata": {},
   "source": [
    "##### En ocasiones, cuando el problema de clasificación sea de dos clases, en lugar de tener las salidas deseadas como una matriz de una sola columna, se tendrá como un vector. Para contemplar estos casos, se pide crear una función del mismo nombre que la anterior y que acepte los mismos argumentos con la excepción de que el segundo argumento, dataset, sea de tipo Tuple{AbstractArray{<:Real,2}, AbstractArray{Bool,1}}. Esta función debería únicamente convertir el vector de salidas deseadas en una matriz con una columna y llamar a la función anterior. Para hacer esta conversión, consultar la función reshape. Por este motivo, no se permite la realización de bucles en el desarrollo de esta función. Además, igual que la anterior, será modificada en la siguiente práctica."
   ]
  },
  {
   "cell_type": "code",
   "execution_count": 42,
   "metadata": {},
   "outputs": [
    {
     "data": {
      "text/plain": [
       "trainClassANN (generic function with 2 methods)"
      ]
     },
     "metadata": {},
     "output_type": "display_data"
    }
   ],
   "source": [
    "function trainClassANN(topology::AbstractArray{<:Int,1},\n",
    "    (inputs, targets)::Tuple{AbstractArray{<:Real,2}, AbstractArray{Bool,1}};\n",
    "    transferFunctions::AbstractArray{<:Function,1}=fill(σ, length(topology)),\n",
    "    maxEpochs::Int=1000, minLoss::Real=0.0, learningRate::Real=0.01) \n",
    "\n",
    "    targets = reshape(targets, (size(targets, 2), 1))\n",
    "    trainClassANN(topology, (inputs, targets); transferFunctions = transferFunctions, maxEpochs, minLoss, learningRate)\n",
    "end"
   ]
  },
  {
   "cell_type": "markdown",
   "metadata": {},
   "source": [
    "##### Integrar estas funciones con el código resultante de la práctica anterior para poder entrenar RR.NN.AA. Una vez que la función de entrenamiento devuelve una RNA entrenada, se puede simular pasándole un conjunto de entradas (con los patrones en columnas, es decir, traspuesto) y devolverá las salidas para ese conjunto (igualmente, los patrones estarán en columnas, por lo que habrá que trasponer las salidas de la RNA). Estas salidas, junto con las salidas deseadas para ese conjunto de entradas, se pueden aplicar a la función accuracy para calcular la precisión en ese conjunto"
   ]
  },
  {
   "cell_type": "code",
   "execution_count": 44,
   "metadata": {},
   "outputs": [
    {
     "ename": "MethodError",
     "evalue": "MethodError: no method matching falses(::Vector{Any})\n\nClosest candidates are:\n  falses(!Matched::Tuple{})\n   @ Base bitarray.jl:406\n  falses(!Matched::Union{Integer, AbstractUnitRange}...)\n   @ Base bitarray.jl:403\n  falses(!Matched::Tuple{Vararg{Integer, N}}) where N\n   @ Base bitarray.jl:405\n  ...\n",
     "output_type": "error",
     "traceback": [
      "MethodError: no method matching falses(::Vector{Any})\n",
      "\n",
      "Closest candidates are:\n",
      "  falses(!Matched::Tuple{})\n",
      "   @ Base bitarray.jl:406\n",
      "  falses(!Matched::Union{Integer, AbstractUnitRange}...)\n",
      "   @ Base bitarray.jl:403\n",
      "  falses(!Matched::Tuple{Vararg{Integer, N}}) where N\n",
      "   @ Base bitarray.jl:405\n",
      "  ...\n",
      "\n",
      "\n",
      "Stacktrace:\n",
      " [1] oneHotEncoding(feature::Vector{Any})\n",
      "   @ Main d:\\3IngInformatica\\2Cuatri\\AA\\Practicas\\P2\\P2.ipynb:2\n",
      " [2] top-level scope\n",
      "   @ d:\\3IngInformatica\\2Cuatri\\AA\\Practicas\\P2\\P2.ipynb:10"
     ]
    }
   ],
   "source": [
    "##### Integrar estas funciones con el código resultante de la práctica anterior para poder entrenar RR.NN.AA. \n",
    "#Una vez que la función de entrenamiento devuelve una RNA entrenada, se puede simular pasándole un conjunto de entradas\n",
    "# (con los patrones en columnas, es decir, traspuesto) y devolverá las salidas para ese conjunto\n",
    "# (igualmente, los patrones estarán en columnas, por lo que habrá que trasponer las salidas de la RNA). \n",
    "#Estas salidas, junto con las salidas deseadas para ese conjunto de entradas, se pueden aplicar a \n",
    "#la función accuracy para calcular la precisión en ese conjunto\n",
    "\n",
    "dataset = readdlm(\"../iris/iris.data\",',');\n",
    "inputs = dataset[:,1:4]\n",
    "targets = oneHotEncoding(dataset[:,5])\n",
    "\n",
    "inputs = Float32.(inputs)\n",
    "#targets = String.(targets)\n",
    "\n",
    "\n",
    "ann , lossvector = trainClassANN([3], (normalizeMinMax!(inputs), targets))\n",
    "\n",
    "output = ann(inputs')'\n",
    "\n",
    "cod_output = classifyOutputs(output)\n",
    "\n",
    "accuracy(cod_output,targets)\n",
    "\n",
    "\n"
   ]
  },
  {
   "cell_type": "markdown",
   "metadata": {},
   "source": [
    "##### Ejecutar varias veces para entrenar distintas redes con distintas arquitecturas. ¿Cuál es la que dará una mayor precisión en el conjunto de entrenamiento? Probar también distintos valores de tasa de aprendizaje."
   ]
  },
  {
   "cell_type": "markdown",
   "metadata": {},
   "source": [
    "###### La red que dará una mayor precisión en el conjunto de entrenamiento será la que tenga más capas ocultas y más neuronas en cada capa oculta."
   ]
  },
  {
   "cell_type": "markdown",
   "metadata": {},
   "source": [
    "##### Repetir los experimentos realizados anteriormente, con los datos sin normalizar, y comparar los resultados con los datos normalizados."
   ]
  },
  {
   "cell_type": "markdown",
   "metadata": {},
   "source": [
    "##### ¿Existen diferencias importantes al utilizar datos normalizados?"
   ]
  },
  {
   "cell_type": "markdown",
   "metadata": {},
   "source": [
    "###### Sí, existen diferencias importantes al utilizar datos normalizados. Los datos normalizados permiten que la red neuronal aprenda más rápido y con mayor precisión."
   ]
  },
  {
   "cell_type": "markdown",
   "metadata": {},
   "source": [
    "#####  ¿Cuál es la mejor topología?"
   ]
  },
  {
   "cell_type": "markdown",
   "metadata": {},
   "source": [
    "###### La mejor topología es la que tiene más capas ocultas y más neuronas en cada capa oculta."
   ]
  }
 ],
 "metadata": {
  "kernelspec": {
   "display_name": "Julia 1.10.0",
   "language": "julia",
   "name": "julia-1.10"
  },
  "language_info": {
   "file_extension": ".jl",
   "mimetype": "application/julia",
   "name": "julia",
   "version": "1.10.0"
  }
 },
 "nbformat": 4,
 "nbformat_minor": 2
}
